{
 "cells": [
  {
   "cell_type": "markdown",
   "id": "91b4af1d-d190-47d0-a056-74b38aa0412a",
   "metadata": {},
   "source": [
    "# Cascadar (200 Points)"
   ]
  },
  {
   "cell_type": "code",
   "execution_count": 1,
   "id": "8b9c87d9-84bd-4f32-8483-5059b1382b00",
   "metadata": {},
   "outputs": [
    {
     "name": "stdout",
     "output_type": "stream",
     "text": [
      "Running test case 0 with input '[[0.0, 0.0, 0.0, 0.0, 0.0, 0.0, 0.0, 0.0, 0.0, 0.0, 0.0, 0.0, 0.0, 0.0, 0.0, 0.0, 0.0, 0.0, 0.0, 0.0, 0.0, 0.0, 0.0, 0.0, 0.0, 1.0, 0.0, 0.0, 0.0, 0.0, 0.0, 0.0], 0.0]'...\n"
     ]
    },
    {
     "name": "stderr",
     "output_type": "stream",
     "text": [
      "/opt/conda/envs/pennylane/lib/python3.9/site-packages/pennylane/devices/default_mixed.py:431: ComplexWarning: Casting complex values to real discards the imaginary part\n",
      "  unravelled_indices[:, device_wires] = basis_states\n"
     ]
    },
    {
     "name": "stdout",
     "output_type": "stream",
     "text": [
      "Correct!\n"
     ]
    }
   ],
   "source": [
    "import json\n",
    "import pennylane as qml\n",
    "import pennylane.numpy as np\n",
    "\n",
    "def noisy_PauliX(wire, lmbda):\n",
    "    \"\"\"A Pauli-X gate followed by depolarizing noise.\n",
    "\n",
    "    Args:\n",
    "        lmbda (float): The parameter defining the depolarizing channel.\n",
    "        wire (int): The wire the depolarizing channel acts on.\n",
    "    \"\"\"\n",
    "    qml.PauliX(wire)\n",
    "    qml.DepolarizingChannel(lmbda, wires=wire)\n",
    "\n",
    "def Toffoli_cascade(in_wires, aux_wires, lmbda):\n",
    "    \"\"\"A cascade of noisy Toffolis to help compute the product.\n",
    "    \n",
    "    Args:\n",
    "        in_wires (list(int)): The input qubits.\n",
    "        aux_wires (list(int)): The auxiliary qubits.\n",
    "        lmbda (float): The probability of erasing the state of a qubit.\n",
    "    \"\"\"\n",
    "    n = len(in_wires)\n",
    "    qml.Toffoli(wires=[in_wires[0], in_wires[1], aux_wires[0]])\n",
    "    qml.DepolarizingChannel(lmbda, wires=in_wires[0])\n",
    "    qml.DepolarizingChannel(lmbda, wires=in_wires[1])\n",
    "    qml.DepolarizingChannel(lmbda, wires=aux_wires[0])\n",
    "    for i in range(n - 2):\n",
    "        qml.Toffoli(wires=[in_wires[i + 2], aux_wires[i], aux_wires[i + 1]])\n",
    "        qml.DepolarizingChannel(lmbda, wires=in_wires[i + 2])\n",
    "        qml.DepolarizingChannel(lmbda, wires=aux_wires[i])\n",
    "        qml.DepolarizingChannel(lmbda, wires=aux_wires[i + 1])\n",
    "\n",
    "# Build a quantum radar to check how much attention is on Trine's cell\n",
    "def cascadar(guard_state, lmbda):\n",
    "    \"\"\"Return the squared amplitude |g_c|^2 of the guard state, for c = (1, 1, 0, 0, 1).\n",
    "\n",
    "    Args:\n",
    "        guard_state (numpy.tensor): A 2**5 = 32 component vector encoding the guard state.\n",
    "        lmbda (float): The probability of erasing the state of a qubit.\n",
    "\n",
    "    Returns:\n",
    "        (float): The squared amplitude of the guard state on the cell c.\n",
    "    \"\"\"\n",
    "    dev = qml.device(\"default.mixed\", wires = 5 + 4)\n",
    "    \n",
    "    @qml.qnode(dev)\n",
    "    def circuit():\n",
    "        \"\"\"\n",
    "        Circuit that will use the Toffoli_cascade and the noisy_PauliX.\n",
    "        It will return a measurement on the last qubit.\n",
    "        \"\"\"\n",
    "\n",
    "        qml.QubitStateVector(guard_state, range(5))\n",
    "\n",
    "\n",
    "        noisy_PauliX([2], lmbda)\n",
    "        noisy_PauliX([3], lmbda)\n",
    "        Toffoli_cascade([0,1], [5], lmbda)\n",
    "        Toffoli_cascade([2,5], [6], lmbda)\n",
    "        Toffoli_cascade([3,6], [7], lmbda)       \n",
    "        Toffoli_cascade([4,7], [8], lmbda)\n",
    "        return qml.probs(wires=[8])\n",
    "\n",
    "    output = np.real(circuit()[1])\n",
    "    return output\n",
    "\n",
    "# These functions are responsible for testing the solution.\n",
    "def run(test_case_input: str) -> str:\n",
    "\n",
    "    guard_state, lmbda = json.loads(test_case_input)\n",
    "    output = cascadar(guard_state, lmbda)\n",
    "\n",
    "    return str(output)\n",
    "\n",
    "def check(solution_output: str, expected_output: str) -> None:\n",
    "\n",
    "    solution_output = json.loads(solution_output)\n",
    "    expected_output = json.loads(expected_output)\n",
    "    assert np.allclose(\n",
    "        solution_output, expected_output, rtol=1e-4\n",
    "    ), \"Your quantum radar isn't quite working properly!\"\n",
    "\n",
    "\n",
    "test_cases = [['[[0.0, 0.0, 0.0, 0.0, 0.0, 0.0, 0.0, 0.0, 0.0, 0.0, 0.0, 0.0, 0.0, 0.0, 0.0, 0.0, 0.0, 0.0, 0.0, 0.0, 0.0, 0.0, 0.0, 0.0, 0.0, 1.0, 0.0, 0.0, 0.0, 0.0, 0.0, 0.0], 0.0]', '1']]\n",
    "\n",
    "for i, (input_, expected_output) in enumerate(test_cases):\n",
    "    print(f\"Running test case {i} with input '{input_}'...\")\n",
    "\n",
    "    try:\n",
    "        output = run(input_)\n",
    "\n",
    "    except Exception as exc:\n",
    "        print(f\"Runtime Error. {exc}\")\n",
    "\n",
    "    else:\n",
    "        if message := check(output, expected_output):\n",
    "            print(f\"Wrong Answer. Have: '{output}'. Want: '{expected_output}'.\")\n",
    "\n",
    "        else:\n",
    "            print(\"Correct!\")"
   ]
  }
 ],
 "metadata": {
  "kernelspec": {
   "display_name": "PennyLane",
   "language": "python",
   "name": "pennylane"
  },
  "language_info": {
   "codemirror_mode": {
    "name": "ipython",
    "version": 3
   },
   "file_extension": ".py",
   "mimetype": "text/x-python",
   "name": "python",
   "nbconvert_exporter": "python",
   "pygments_lexer": "ipython3",
   "version": "3.9.15"
  }
 },
 "nbformat": 4,
 "nbformat_minor": 5
}
